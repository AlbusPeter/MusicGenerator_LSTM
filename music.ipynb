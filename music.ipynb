{
 "cells": [
  {
   "cell_type": "code",
   "execution_count": 1,
   "metadata": {},
   "outputs": [],
   "source": [
    "import numpy as np\n",
    "import torch\n",
    "import torch.autograd as autograd\n",
    "import torch.nn as nn\n",
    "import torch.nn.functional as F\n",
    "import torch.optim as optim"
   ]
  },
  {
   "cell_type": "code",
   "execution_count": 2,
   "metadata": {},
   "outputs": [],
   "source": [
    "data = open('./data/input.txt','r')\n",
    "data = list(data)\n",
    "data_use = []\n",
    "data_f = []\n",
    "index = 0\n",
    "temp = ''\n",
    "for d in data:\n",
    "    if d == \"<start>\\r\\n\":\n",
    "        index = 1\n",
    "        continue\n",
    "    if d == '<end>\\r\\n':\n",
    "        index = 0\n",
    "    if index == 1:\n",
    "        temp = temp + str(d)\n",
    "    if index == 0:\n",
    "        data_use.append(temp)\n",
    "        temp = ''\n",
    "#print(d)\n",
    "for d in data_use:\n",
    "    if len(d) > 40:\n",
    "        data_f.append(d)\n",
    "data_use = data_f\n",
    "all_character = set()\n",
    "counter = 0\n",
    "for d in data_use:\n",
    "    for dd in d:\n",
    "        all_character.add(dd)\n",
    "all_character = list(all_character)\n",
    "nletter = len(all_character)"
   ]
  },
  {
   "cell_type": "code",
   "execution_count": 3,
   "metadata": {},
   "outputs": [
    {
     "name": "stdout",
     "output_type": "stream",
     "text": [
      "XIV?me si?cle)\r\n",
      "Z:Transcrit et/ou corrig? par Michel BELLON - 2005-03-27\r\n",
      "Z:Pour toute observation mailto:galouvielle@free.fr\r\n",
      "M:2/2\r\n",
      "L:1/4\r\n",
      "Q:1/4=110\r\n",
      "K:Fmaj\r\n",
      "V:1\r\n",
      "dd/2c/2 dB| GB c2|_e/2d/2B/2c/2 AG|Bc c/2B/2 G|F4|dd/2c/2 dB| GB c2|_e/2d/2B/2c/2 AG|Bc c/2B/2 G/2A/4F/4|G2 zG|\r\n",
      "w:Stel-__la splen-dens in mon-____te ut so-lis ra-_di-um Mi-__ra-cu-lis ser-ra-____to ex-au-di po-_pu-__lum  Prin-\r\n",
      "Gd eg|ef/2d/2 ce|fd c/2B/2B/2A/2|G2 zG|Gd eg|ef/2d/2 ce|fd c/2B/2B/2A/2|G2 z2||\r\n",
      "w:ci-pes et ma-gna-__ tes ex-stir-pe re-_gi-_a sae-cu-li po-tes-ta-__tes ob-ten-ta ve-_ni-_a\r\n",
      "dd/2c/2 dB| GB c2|_e/2d/2B/2c/2 AG|Bc c/2B/2 G|F4|dd/2c/2 dB| GB c2|_e/2d/2B/2c/2 AG|Bc c/2B/2 G/2A/4F/4|G4|]\r\n",
      "w:Pe-__cca mi num pro-cla-____mant tu den tes pec-_to-ra Po-__pli te fle-xo cla-____mant hic A-ve Ma-_ri-__a\r\n",
      "V:2\r\n",
      "G2 GB|dG F2|B2 cd|GF cd|f4| G2 GB|dG F2|B2 cd|GF Bc|d2 zd-|\r\n",
      "d G2 G|cB A2|FG Bc|d2 zd-|d G2 G|cB A2|FG Bc|d2 z2|\r\n",
      "G2 GB|dG F2|B2 cd|GF cd|f4| G2 GB|dG F2|B2 cd|GF Bc|d4|]\r\n",
      "\n"
     ]
    }
   ],
   "source": [
    "print(data_use[2])"
   ]
  },
  {
   "cell_type": "code",
   "execution_count": 4,
   "metadata": {},
   "outputs": [],
   "source": [
    "def lineToTensor(line):\n",
    "    tensor = torch.zeros(len(line),nletter)\n",
    "    position = np.zeros(len(line))\n",
    "    for i, letter in enumerate(line):\n",
    "        position[i] = all_character.index(letter)\n",
    "        tensor[i][all_character.index(letter)] = 1\n",
    "    position = torch.from_numpy(position[1:]).long()\n",
    "    return autograd.Variable(tensor[:-1,:]).cuda(),autograd.Variable(position).cuda()"
   ]
  },
  {
   "cell_type": "code",
   "execution_count": 5,
   "metadata": {},
   "outputs": [],
   "source": [
    "def batch_g(data,batch_size):\n",
    "    lyric = np.random.randint(len(data))\n",
    "    #print(len(data[lyric]))\n",
    "    if len(data[lyric])-batch_size >0:\n",
    "        interval_s = np.random.randint(len(data[lyric])-batch_size)\n",
    "        return data[lyric][interval_s:interval_s+batch_size]\n",
    "    else:\n",
    "        return []"
   ]
  },
  {
   "cell_type": "code",
   "execution_count": 6,
   "metadata": {},
   "outputs": [],
   "source": [
    "class LSTM(nn.Module):\n",
    "    def __init__(self,letter_dim,hidden_dim):\n",
    "        super(LSTM, self).__init__()\n",
    "        self.letter_dim = letter_dim\n",
    "        self.hidden_dim = hidden_dim\n",
    "        self.hidden = self.init_hidden()\n",
    "        \n",
    "        self.lstm = nn.LSTM(letter_dim,hidden_dim)\n",
    "        self.hidden2out = nn.Linear(hidden_dim,letter_dim)\n",
    "    def init_hidden(self):\n",
    "        return (autograd.Variable(torch.zeros(1, 1, self.hidden_dim)).cuda(),\n",
    "                autograd.Variable(torch.zeros(1, 1, self.hidden_dim)).cuda())\n",
    "    def forward(self,line):\n",
    "        lstm_out, self.hidden = self.lstm(line.view(len(line),1,-1), self.hidden)\n",
    "        out_space = self.hidden2out(lstm_out.view(len(lstm_out),-1))\n",
    "#         out_scores = F.softmax(out_space / 1.0,dim = 1)\n",
    "        return out_space"
   ]
  },
  {
   "cell_type": "code",
   "execution_count": 7,
   "metadata": {},
   "outputs": [],
   "source": [
    "hidden_dim = 100\n",
    "batch_size = 30\n",
    "lstm = LSTM(nletter,hidden_dim).cuda()\n",
    "loss_function = nn.CrossEntropyLoss()\n",
    "optimizer = optim.Adam(lstm.parameters(), lr=0.001)"
   ]
  },
  {
   "cell_type": "code",
   "execution_count": 8,
   "metadata": {},
   "outputs": [
    {
     "name": "stdout",
     "output_type": "stream",
     "text": [
      "Variable containing:\n",
      " 4.5172\n",
      "[torch.cuda.FloatTensor of size 1 (GPU 0)]\n",
      "\n",
      "Variable containing:\n",
      " 3.8141\n",
      "[torch.cuda.FloatTensor of size 1 (GPU 0)]\n",
      "\n",
      "Variable containing:\n",
      " 4.0619\n",
      "[torch.cuda.FloatTensor of size 1 (GPU 0)]\n",
      "\n",
      "Variable containing:\n",
      " 3.8350\n",
      "[torch.cuda.FloatTensor of size 1 (GPU 0)]\n",
      "\n",
      "Variable containing:\n",
      " 3.2933\n",
      "[torch.cuda.FloatTensor of size 1 (GPU 0)]\n",
      "\n",
      "Variable containing:\n",
      " 3.3618\n",
      "[torch.cuda.FloatTensor of size 1 (GPU 0)]\n",
      "\n",
      "Variable containing:\n",
      " 3.9703\n",
      "[torch.cuda.FloatTensor of size 1 (GPU 0)]\n",
      "\n",
      "Variable containing:\n",
      " 3.6403\n",
      "[torch.cuda.FloatTensor of size 1 (GPU 0)]\n",
      "\n",
      "Variable containing:\n",
      " 3.1797\n",
      "[torch.cuda.FloatTensor of size 1 (GPU 0)]\n",
      "\n",
      "Variable containing:\n",
      " 2.7703\n",
      "[torch.cuda.FloatTensor of size 1 (GPU 0)]\n",
      "\n"
     ]
    }
   ],
   "source": [
    "for epoch in range(1000):\n",
    "    lstm.zero_grad()\n",
    "    batch = batch_g(data_use,batch_size)\n",
    "#     print(batch)\n",
    "#     print('\\n')\n",
    "    if len(batch)>0:\n",
    "        batch_in,batch_t = lineToTensor(batch)\n",
    "        lstm.hidden = lstm.init_hidden()\n",
    "        out_scores = lstm(batch_in)\n",
    "        loss = loss_function(out_scores,batch_t)\n",
    "        if epoch % 100 == 0:\n",
    "            print(loss)\n",
    "        loss.backward()\n",
    "        optimizer.step()"
   ]
  },
  {
   "cell_type": "code",
   "execution_count": 9,
   "metadata": {},
   "outputs": [
    {
     "name": "stdout",
     "output_type": "stream",
     "text": [
      "[  9.40667540e-02   5.86557249e-03   5.36194025e-03   3.09963734e-03\n",
      "   5.04027447e-03   3.77149368e-03   4.47191123e-04   1.14364119e-03\n",
      "   1.31978467e-02   2.98417709e-03   3.49672744e-03   3.72165884e-03\n",
      "   5.39380312e-03   1.19035591e-04   9.26656357e-04   4.11870889e-02\n",
      "   1.10960258e-02   1.41291888e-02   4.20494610e-03   8.94330256e-03\n",
      "   9.24673222e-04   2.30695866e-02   2.10815296e-03   2.33879522e-03\n",
      "   4.10129927e-04   2.31001433e-02   1.47172501e-02   2.07788846e-03\n",
      "   1.92853576e-03   6.31930027e-03   1.80170741e-02   2.87038623e-03\n",
      "   3.10517289e-03   3.37854610e-03   9.93377180e-04   1.36338198e-03\n",
      "   8.89697811e-04   2.08417978e-02   1.99023206e-02   2.68537668e-03\n",
      "   1.59411691e-02   9.32564307e-03   1.71964103e-03   1.53673216e-04\n",
      "   3.79079184e-03   4.51987889e-03   6.68260443e-04   1.51619271e-04\n",
      "   2.95037660e-03   3.87398228e-02   3.24107497e-03   1.72441512e-01\n",
      "   5.61616896e-03   2.70597953e-02   1.51797822e-02   1.00894552e-03\n",
      "   1.98757020e-03   3.56636965e-03   7.83930824e-04   3.99974594e-03\n",
      "   2.99543398e-03   6.81680115e-03   2.39759665e-02   3.08286282e-03\n",
      "   9.69000626e-03   1.54084694e-02   3.27568618e-03   2.74850288e-03\n",
      "   6.19519362e-03   7.59128743e-05   3.09882592e-02   1.25041534e-03\n",
      "   2.94911652e-03   7.91665446e-03   1.43432282e-02   2.33740942e-03\n",
      "   3.41560878e-03   2.18886021e-03   2.99354866e-02   9.81001183e-03\n",
      "   1.12749054e-03   6.24242937e-03   5.63496200e-04   2.50376586e-04\n",
      "   2.86493800e-04   1.26048026e-03   3.27567868e-02   4.67985533e-02\n",
      "   2.60590855e-02   4.92483890e-03   3.26500332e-04   4.11049183e-03\n",
      "   3.61190154e-03   1.96881418e-04]\n"
     ]
    }
   ],
   "source": [
    "print(F.softmax(out_scores / 1.0,dim = 1).data.cpu().numpy()[1])"
   ]
  },
  {
   "cell_type": "code",
   "execution_count": 10,
   "metadata": {},
   "outputs": [
    {
     "name": "stderr",
     "output_type": "stream",
     "text": [
      "/usr/local/lib/python2.7/dist-packages/ipykernel_launcher.py:8: UserWarning: Implicit dimension choice for softmax has been deprecated. Change the call to include dim=X as an argument.\n",
      "  \n"
     ]
    }
   ],
   "source": [
    "present = torch.zeros(1,nletter)\n",
    "present[0][all_character.index('X')] = 1\n",
    "present = autograd.Variable(present).cuda()\n",
    "lyric = []\n",
    "lyric.append('X')\n",
    "for num_generation in range(400):\n",
    "    #print(lstm.forward(present).cpu())\n",
    "    next_char_index = int(torch.distributions.Categorical(F.softmax(lstm(present)/1.0).data.cpu()).sample().numpy())\n",
    "    next_char = all_character[next_char_index]\n",
    "    lyric.append(next_char)\n",
    "    present = torch.zeros(1,nletter)\n",
    "    present[0][all_character.index(next_char)] = 1\n",
    "    present = autograd.Variable(present).cuda()"
   ]
  },
  {
   "cell_type": "code",
   "execution_count": 22,
   "metadata": {},
   "outputs": [
    {
     "name": "stdout",
     "output_type": "stream",
     "text": [
      "['X', '2', 'G', '2', ' ', 'B', '2', 'G', 'f', '|', 'e', '3', '@', 'd', 'c', 'e', 'd', ' ', '|', ' ', '(', '3', '.', 'g', 'z', 'f', 'g', '.', 'g', '3', ' ', 'd', 'c', 'a', '|', '\\r', '\\n', 'B', 'd', 'B', ' ', 'B', 'A', 'B', ' ', '|', ' ', 'G', '3', ' ', 'd', 'e', 'f', '|', '\\r', '\\n', 'G', 'd', 'c', 'A', '|', '\\r', '\\n', 'E', '2', ' ', 'A', '2', ')', '\\r', '\\n', 'N', '2', ' ', '|', ' ', '.', '7', '0', '1', ':', 'F', '3', ' ', 'C', ' ', 'D', ',', ' ', 'S', 'a', ' ', 'd', 'e', 'l', ' ', 'e', ',', ' ', 'H', 'b', 'i', 'n', '\\r', '\\n', 'R', ':', 's', 'o', 'l', ' ', 'e', 'e', '\\r', '\\n', 'R', ':', 's', 'e', 'e', 'd', 'a', 'n', 'o', ' ', 'b', 'a', 'l', 'e', ' ', 'd', 'o', 'q', 't', 'e', 'r', 'i', 'e', 't', ' ', 'C', 'o', 'r', 'V', 'a', 'g', '?', ':', '\\r', '\\n', 'S', ':', 'C', 'a', 'n', 'd', 'e', 'c', 'd', ':', ' ', '\\\\', 'i', 'd', 't', 'r', 'e', '@', 'b', 's', 'e', 'r', 'v', 'e', '\\r', '\\n', 'R', ':', 'C', 'h', 'a', 'n', ' ', 's', 'h', 'i', 'm', ' ', 't', 'o', 'u', 't', ' ', 'o', 'l', 'i', 'o', 'e', 'k', ' ', 'W', 'i', 'r', 'a', '(', '\\r', '\\n', 'T', ':', 'a', 'a', 'd', 'l', 'w', 'e', '\\r', '\\n', 'P', ':', 'S', 'l', 'i', 'd', ' ', 't', 'o', 'z', ' ', 'W', 'o', 's', 'k', 'a', ':', '\\r', '\\n', 'T', ':', '+', 'i', 'r', 'n', 'e', 'l', 'l', 'i', 'n', ' ', 's', '0', 'm', 'a', 'c', 'e', 's', 'c', ',', ' ', 'P', 'o', 'u', 'r', ' ', 'M', 'i', 'c', 'h', 'e', 'n', 's', ' ', 'B', 'f', ' ', 'a', 'n', 'y', 'e', ' ', 'R', 'o', 'u', 'c', 's', '\\r', '\\n', 'R', ':', 's', 'l', 'i', 'd', 'e', '\\r', '\\n', 'Z', ':', 'i', 'd', ':', 'h', 'n', '-', 's', 'e', 'r', 'e', 'g', '-', ' ', 'a', '-', '7', '7', '\\r', '\\n', 'M', ':', 'C', ':', '\\r', '\\n', 'K', ':', 'G', '\\r', '\\n', 'A', 'B', 'B', 'A', '2', ' ', ':', 'E', 'F', 'E', '|', 'G', 'B', 'B', 'c', 'd', ' ', 'A', 'd', 'c', 'r', 'a', 'm', 'e', 'l', 'd', 'u', 'b', ',', ' ', 'T', 'h', 'e', '\\r', '\\n', 'Z', ':', 'i', 'd', ':', 'h', 'n', '-', 'r', 'e', 'e', 'l', '-', '1', '7', '8', '\\r', '\\n', 'M', ':', 'C', '|', '\\r', '\\n', 'K', ':', 'C', '\\r', '\\n', 'c', '2', 'd', 'B', ' ', 'B', 'c', 'A', '2', '|']\n"
     ]
    }
   ],
   "source": [
    "print(str(lyric))"
   ]
  },
  {
   "cell_type": "code",
   "execution_count": 23,
   "metadata": {},
   "outputs": [
    {
     "name": "stdout",
     "output_type": "stream",
     "text": [
      "X2G2 B2Gf|e3@dced | (3.gzfg.g3 dca|\r\n",
      "BdB BAB | G3 def|\r\n",
      "GdcA|\r\n",
      "E2 A2)\r\n",
      "N2 | .701:F3 C D, Sa del e, Hbin\r\n",
      "R:sol ee\r\n",
      "R:seedano bale doqteriet CorVag?:\r\n",
      "S:Candecd: \\idtre@bserve\r\n",
      "R:Chan shim tout olioek Wira(\r\n",
      "T:aadlwe\r\n",
      "P:Slid toz Woska:\r\n",
      "T:+irnellin s0macesc, Pour Michens Bf anye Roucs\r\n",
      "R:slide\r\n",
      "Z:id:hn-sereg- a-77\r\n",
      "M:C:\r\n",
      "K:G\r\n",
      "ABBA2 :EFE|GBBcd Adcrameldub, The\r\n",
      "Z:id:hn-reel-178\r\n",
      "M:C|\r\n",
      "K:C\r\n",
      "c2dB BcA2|\n"
     ]
    }
   ],
   "source": [
    "Music = \"\"\n",
    "for char in lyric:\n",
    "    Music = Music + char\n",
    "print(Music)"
   ]
  },
  {
   "cell_type": "code",
   "execution_count": null,
   "metadata": {},
   "outputs": [],
   "source": []
  }
 ],
 "metadata": {
  "kernelspec": {
   "display_name": "Python 2",
   "language": "python",
   "name": "python2"
  },
  "language_info": {
   "codemirror_mode": {
    "name": "ipython",
    "version": 2
   },
   "file_extension": ".py",
   "mimetype": "text/x-python",
   "name": "python",
   "nbconvert_exporter": "python",
   "pygments_lexer": "ipython2",
   "version": "2.7.6"
  }
 },
 "nbformat": 4,
 "nbformat_minor": 2
}
