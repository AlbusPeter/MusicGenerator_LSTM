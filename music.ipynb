{
 "cells": [
  {
   "cell_type": "code",
   "execution_count": 2,
   "metadata": {},
   "outputs": [],
   "source": [
    "import numpy as np\n",
    "import torch\n",
    "import torch.autograd as autograd\n",
    "import torch.nn as nn\n",
    "import torch.nn.functional as F\n",
    "import torch.optim as optim"
   ]
  },
  {
   "cell_type": "code",
   "execution_count": 3,
   "metadata": {},
   "outputs": [],
   "source": [
    "data = open('./data/input.txt','r')\n",
    "data = list(data)\n",
    "data_use = []\n",
    "data_f = []\n",
    "index = 0\n",
    "temp = ''\n",
    "for d in data:\n",
    "    if d == \"<start>\\r\\n\":\n",
    "        index = 1\n",
    "        continue\n",
    "    if d == '<end>\\r\\n':\n",
    "        index = 0\n",
    "    if index == 1:\n",
    "        temp = temp + str(d)\n",
    "    if index == 0:\n",
    "        data_use.append(temp)\n",
    "        temp = ''\n",
    "#print(d)\n",
    "for d in data_use:\n",
    "    if len(d) > 40:\n",
    "        data_f.append(d)\n",
    "data_use = data_f\n",
    "all_character = set()\n",
    "counter = 0\n",
    "for d in data_use:\n",
    "    for dd in d:\n",
    "        all_character.add(dd)\n",
    "all_character = list(all_character)\n",
    "nletter = len(all_character)"
   ]
  },
  {
   "cell_type": "code",
   "execution_count": 4,
   "metadata": {},
   "outputs": [
    {
     "name": "stdout",
     "output_type": "stream",
     "text": [
      "XIV?me si?cle)\r\n",
      "Z:Transcrit et/ou corrig? par Michel BELLON - 2005-03-27\r\n",
      "Z:Pour toute observation mailto:galouvielle@free.fr\r\n",
      "M:2/2\r\n",
      "L:1/4\r\n",
      "Q:1/4=110\r\n",
      "K:Fmaj\r\n",
      "V:1\r\n",
      "dd/2c/2 dB| GB c2|_e/2d/2B/2c/2 AG|Bc c/2B/2 G|F4|dd/2c/2 dB| GB c2|_e/2d/2B/2c/2 AG|Bc c/2B/2 G/2A/4F/4|G2 zG|\r\n",
      "w:Stel-__la splen-dens in mon-____te ut so-lis ra-_di-um Mi-__ra-cu-lis ser-ra-____to ex-au-di po-_pu-__lum  Prin-\r\n",
      "Gd eg|ef/2d/2 ce|fd c/2B/2B/2A/2|G2 zG|Gd eg|ef/2d/2 ce|fd c/2B/2B/2A/2|G2 z2||\r\n",
      "w:ci-pes et ma-gna-__ tes ex-stir-pe re-_gi-_a sae-cu-li po-tes-ta-__tes ob-ten-ta ve-_ni-_a\r\n",
      "dd/2c/2 dB| GB c2|_e/2d/2B/2c/2 AG|Bc c/2B/2 G|F4|dd/2c/2 dB| GB c2|_e/2d/2B/2c/2 AG|Bc c/2B/2 G/2A/4F/4|G4|]\r\n",
      "w:Pe-__cca mi num pro-cla-____mant tu den tes pec-_to-ra Po-__pli te fle-xo cla-____mant hic A-ve Ma-_ri-__a\r\n",
      "V:2\r\n",
      "G2 GB|dG F2|B2 cd|GF cd|f4| G2 GB|dG F2|B2 cd|GF Bc|d2 zd-|\r\n",
      "d G2 G|cB A2|FG Bc|d2 zd-|d G2 G|cB A2|FG Bc|d2 z2|\r\n",
      "G2 GB|dG F2|B2 cd|GF cd|f4| G2 GB|dG F2|B2 cd|GF Bc|d4|]\r\n",
      "\n"
     ]
    }
   ],
   "source": [
    "print(data_use[2])"
   ]
  },
  {
   "cell_type": "code",
   "execution_count": 5,
   "metadata": {},
   "outputs": [],
   "source": [
    "def lineToTensor(line):\n",
    "    tensor = torch.zeros(len(line),nletter)\n",
    "    position = np.zeros(len(line))\n",
    "    for i, letter in enumerate(line):\n",
    "        position[i] = all_character.index(letter)\n",
    "        tensor[i][all_character.index(letter)] = 1\n",
    "    position = torch.from_numpy(position[1:]).long()\n",
    "    return autograd.Variable(tensor[:-1,:]).cuda(),autograd.Variable(position).cuda()"
   ]
  },
  {
   "cell_type": "code",
   "execution_count": 6,
   "metadata": {},
   "outputs": [],
   "source": [
    "def batch_g(data,batch_size):\n",
    "    lyric = np.random.randint(len(data))\n",
    "    #print(len(data[lyric]))\n",
    "    if len(data[lyric])-batch_size >0:\n",
    "        interval_s = np.random.randint(len(data[lyric])-batch_size)\n",
    "        return data[lyric][interval_s:interval_s+batch_size]\n",
    "    else:\n",
    "        return []"
   ]
  },
  {
   "cell_type": "code",
   "execution_count": 7,
   "metadata": {},
   "outputs": [],
   "source": [
    "class LSTM(nn.Module):\n",
    "    def __init__(self,letter_dim,hidden_dim):\n",
    "        super(LSTM, self).__init__()\n",
    "        self.letter_dim = letter_dim\n",
    "        self.hidden_dim = hidden_dim\n",
    "        self.hidden = self.init_hidden()\n",
    "        \n",
    "        self.lstm = nn.LSTM(letter_dim,hidden_dim)\n",
    "        self.hidden2out = nn.Linear(hidden_dim,letter_dim)\n",
    "    def init_hidden(self):\n",
    "        return (autograd.Variable(torch.zeros(1, 1, self.hidden_dim)).cuda(),\n",
    "                autograd.Variable(torch.zeros(1, 1, self.hidden_dim)).cuda())\n",
    "    def forward(self,line):\n",
    "        lstm_out, self.hidden = self.lstm(line.view(len(line),1,-1), self.hidden)\n",
    "        out_space = self.hidden2out(lstm_out.view(len(lstm_out),-1))\n",
    "#         out_scores = F.softmax(out_space / 1.0,dim = 1)\n",
    "        return out_space"
   ]
  },
  {
   "cell_type": "code",
   "execution_count": 8,
   "metadata": {},
   "outputs": [],
   "source": [
    "hidden_dim = 100\n",
    "batch_size = 30\n",
    "lstm = LSTM(nletter,hidden_dim).cuda()\n",
    "loss_function = nn.CrossEntropyLoss()\n",
    "optimizer = optim.Adam(lstm.parameters(), lr=0.001)"
   ]
  },
  {
   "cell_type": "code",
   "execution_count": 9,
   "metadata": {},
   "outputs": [
    {
     "name": "stdout",
     "output_type": "stream",
     "text": [
      "Variable containing:\n",
      " 4.5674\n",
      "[torch.cuda.FloatTensor of size 1 (GPU 0)]\n",
      "\n",
      "Variable containing:\n",
      " 3.4689\n",
      "[torch.cuda.FloatTensor of size 1 (GPU 0)]\n",
      "\n",
      "Variable containing:\n",
      " 3.1698\n",
      "[torch.cuda.FloatTensor of size 1 (GPU 0)]\n",
      "\n",
      "Variable containing:\n",
      " 3.7864\n",
      "[torch.cuda.FloatTensor of size 1 (GPU 0)]\n",
      "\n",
      "Variable containing:\n",
      " 3.4241\n",
      "[torch.cuda.FloatTensor of size 1 (GPU 0)]\n",
      "\n",
      "Variable containing:\n",
      " 3.6139\n",
      "[torch.cuda.FloatTensor of size 1 (GPU 0)]\n",
      "\n",
      "Variable containing:\n",
      " 4.6997\n",
      "[torch.cuda.FloatTensor of size 1 (GPU 0)]\n",
      "\n",
      "Variable containing:\n",
      " 2.6456\n",
      "[torch.cuda.FloatTensor of size 1 (GPU 0)]\n",
      "\n",
      "Variable containing:\n",
      " 2.4500\n",
      "[torch.cuda.FloatTensor of size 1 (GPU 0)]\n",
      "\n",
      "Variable containing:\n",
      " 2.6399\n",
      "[torch.cuda.FloatTensor of size 1 (GPU 0)]\n",
      "\n"
     ]
    }
   ],
   "source": [
    "for epoch in range(1000):\n",
    "    lstm.zero_grad()\n",
    "    batch = batch_g(data_use,batch_size)\n",
    "#     print(batch)\n",
    "#     print('\\n')\n",
    "    if len(batch)>0:\n",
    "        batch_in,batch_t = lineToTensor(batch)\n",
    "        lstm.hidden = lstm.init_hidden()\n",
    "        out_scores = lstm(batch_in)\n",
    "        loss = loss_function(out_scores,batch_t)\n",
    "        if epoch % 100 == 0:\n",
    "            print(loss)\n",
    "        loss.backward()\n",
    "        optimizer.step()"
   ]
  },
  {
   "cell_type": "code",
   "execution_count": 13,
   "metadata": {},
   "outputs": [
    {
     "name": "stdout",
     "output_type": "stream",
     "text": [
      "[ 0.05511661  0.01118735  0.01267653  0.00664901  0.01130545  0.0072906\n",
      "  0.0027741   0.00361837  0.0171743   0.00527951  0.00740505  0.00666164\n",
      "  0.00825582  0.00080569  0.00475316  0.02872356  0.01045729  0.01165287\n",
      "  0.00686893  0.00936833  0.00304742  0.02907304  0.00447163  0.00694241\n",
      "  0.00159121  0.02426892  0.01985937  0.00530077  0.00423735  0.00912572\n",
      "  0.02659946  0.00693125  0.00485062  0.00538935  0.00330997  0.00351124\n",
      "  0.00273532  0.02539418  0.02057483  0.00468945  0.01311214  0.0097442\n",
      "  0.00462107  0.00226491  0.0134381   0.00907961  0.00242877  0.00076565\n",
      "  0.00679352  0.0485329   0.00690124  0.03684217  0.01105658  0.03172969\n",
      "  0.01702657  0.00361986  0.00433531  0.0063018   0.00322848  0.00602502\n",
      "  0.00773805  0.00858571  0.02482934  0.00457505  0.01031361  0.01242657\n",
      "  0.00594076  0.00632592  0.00991871  0.00066337  0.02400466  0.00390882\n",
      "  0.00786336  0.00949539  0.0115975   0.00470597  0.0044308   0.00707852\n",
      "  0.02674899  0.01646118  0.00258536  0.00762452  0.00284249  0.00137819\n",
      "  0.00126997  0.00409899  0.02058166  0.0345933   0.01297652  0.00813267\n",
      "  0.00245059  0.00798992  0.00533438  0.00275389]\n"
     ]
    }
   ],
   "source": [
    "print(F.softmax(out_scores / 1.0,dim = 1).data.cpu().numpy()[0])"
   ]
  },
  {
   "cell_type": "code",
   "execution_count": 19,
   "metadata": {},
   "outputs": [],
   "source": [
    "present = torch.zeros(1,nletter)\n",
    "present[0][all_character.index('X')] = 1\n",
    "present = autograd.Variable(present).cuda()\n",
    "lyric = []\n",
    "lyric.append('X')\n",
    "for num_generation in range(400):\n",
    "    p = F.softmax(lstm(present)/1.0,dim=1).data.cpu().numpy().reshape(-1)\n",
    "    next_char_index = int(np.random.choice(nletter,1,p=p))\n",
    "    next_char = all_character[next_char_index]\n",
    "    lyric.append(next_char)\n",
    "    present = torch.zeros(1,nletter)\n",
    "    present[0][all_character.index(next_char)] = 1\n",
    "    present = autograd.Variable(present).cuda()"
   ]
  },
  {
   "cell_type": "code",
   "execution_count": 20,
   "metadata": {},
   "outputs": [
    {
     "name": "stdout",
     "output_type": "stream",
     "text": [
      "87\n"
     ]
    }
   ],
   "source": [
    "print int(next_char_index)"
   ]
  },
  {
   "cell_type": "code",
   "execution_count": 21,
   "metadata": {},
   "outputs": [
    {
     "name": "stdout",
     "output_type": "stream",
     "text": [
      "['X', 'A', 'A', 'B', '2', 'B', '2', ' ', ' ', 'D', '(', 'G', '2', 'c', ' ', 'F', '|', 'd', '2', ' ', '\\r', 'G', 'E', ' ', '|', ' ', 'F', '3', 'B', 'F', 'K', 'D', ' ', ' ', '|', '0', ' ', ' ', 'F', ' ', '|', ' ', 'D', '2', 'd', 'E', '2', 'd', 'd', 'G', 'e', 'c', ' ', 'B', 'A', ' ', '|', 'G', '(', '|', 'B', ' ', 'D', ' ', 'c', 'G', '2', 'G', 'B', '\\r', 'A', 'F', '/', 'G', '~', '2', 'G', 'A', ':', ' ', '3', 'c', '2', 'f', ' ', 'G', '/', '2', '/', 'A', 'G', 'G', ' ', 'd', '2', 'G', '2', ' ', 'G', ' ', 'A', 'B', '|', 'd', ' ', '2', 'g', 'd', ' ', 'd', 'c', ' ', '|', 'G', '|', 'e', 'A', 'D', 'c', 'D', ' ', 'E', ' ', 'B', '2', ' ', 'B', '|', '2', '!', 'F', ':', 'd', 'A', '|', 'G', 'A', 'G', ' ', 'c', '3', ' ', 'F', 'c', 'A', ' ', 'A', 'D', '|', ' ', 'G', '2', 'G', '|', 'F', 'c', 'f', 'G', '2', 'A', 'd', '2', 'c', 'c', 'G', 'g', '2', 'G', 'B', '|', 'G', ' ', '|', 'D', 'T', '|', ' ', '|', ' ', 'A', '|', 'A', '/', 'A', '2', 'd', 'B', '|', 'A', 'A', '(', 'f', ' ', ' ', 'c', 'f', ' ', 'd', '2', 'A', '|', ' ', ' ', 'G', 'B', 'i', 'G', '2', ' ', 'e', 'd', '2', '2', ' ', ' ', 'B', 'D', 'F', 'A', '|', '|', ' ', 'B', '2', ' ', ' ', 'E', 'A', ' ', ' ', 'G', 'B', '/', 'E', '2', ' ', ' ', '|', 'G', 'F', '|', '|', 'S', ' ', 'd', 'c', '2', ' ', ' ', '\\r', '\\n', 'G', 'G', 'G', '|', 'e', 'd', 'G', ' ', 'c', 'G', 'B', 'F', 'A', '|', 'B', 'd', 'G', 'G', '2', 'd', 'D', 'G', 'c', '2', 'c', 'G', ' ', 'B', 'd', ' ', 'F', '4', 'B', '2', 'f', 'E', ':', 'A', 'F', 'd', '2', '|', 'e', 'd', ' ', '|', 'B', ' ', '2', 'E', 'i', 'F', 'D', '2', '2', '3', ' ', 'd', '2', 'g', 'A', '|', 'e', 'd', 'c', ' ', 'A', '|', '|', 'd', '2', 'G', 'd', 'F', \"'\", 'B', 'A', 'G', ' ', '|', 'E', 'B', '2', 'f', 'B', 'd', '\\r', 'B', 'M', 'D', '\"', 'g', '|', ' ', 'd', 'g', '|', ' ', '^', 'c', 'B', 'A', '2', '|', 'd', 'B', '|', 'G', ' ', 'f', '2', ' ', 'g', '2', '2', ' ', 'B', ',', ' ', '|', '2', 'a', ' ', 'd', ' ', ' ', '|', ' ', 'A', 'A', 'G', ' ', 'G', 'd', ' ', 'e', '2', ' ', ' ', '2', '2', 'c', 'e', 'A', ' ', 'd', 'B', ' ', 'G', 'e']\n"
     ]
    }
   ],
   "source": [
    "print(str(lyric))"
   ]
  },
  {
   "cell_type": "code",
   "execution_count": 22,
   "metadata": {},
   "outputs": [
    {
     "name": "stdout",
     "output_type": "stream",
     "text": [
      "XAAB2B2  D(G2c F|d2 \r",
      "GE | F3BFKD  |0  F | D2dE2ddGec BA |G(|B D cG2GB\r",
      "AF/G~2GA: 3c2f G/2/AGG d2G2 G AB|d 2gd dc |G|eADcD E B2 B|2!F:dA|GAG c3 FcA AD| G2G|FcfG2Ad2ccGg2GB|G |DT| | A|A/A2dB|AA(f  cf d2A|  GBiG2 ed22  BDFA|| B2  EA  GB/E2  |GF||S dc2  \r\n",
      "GGG|edG cGBFA|BdGG2dDGc2cG Bd F4B2fE:AFd2|ed |B 2EiFD223 d2gA|edc A||d2GdF'BAG |EB2fBd\r",
      "BMD\"g| dg| ^cBA2|dB|G f2 g22 B, |2a d  | AAG Gd e2  22ceA dB Ge\n"
     ]
    }
   ],
   "source": [
    "Music = \"\"\n",
    "for char in lyric:\n",
    "    Music = Music + char\n",
    "print(Music)"
   ]
  },
  {
   "cell_type": "code",
   "execution_count": null,
   "metadata": {},
   "outputs": [],
   "source": []
  }
 ],
 "metadata": {
  "kernelspec": {
   "display_name": "Python 2",
   "language": "python",
   "name": "python2"
  },
  "language_info": {
   "codemirror_mode": {
    "name": "ipython",
    "version": 2
   },
   "file_extension": ".py",
   "mimetype": "text/x-python",
   "name": "python",
   "nbconvert_exporter": "python",
   "pygments_lexer": "ipython2",
   "version": "2.7.6"
  }
 },
 "nbformat": 4,
 "nbformat_minor": 2
}
